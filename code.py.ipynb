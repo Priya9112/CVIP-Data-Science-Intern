{
 "cells": [
  {
   "cell_type": "code",
   "execution_count": 1,
   "id": "9a1155ae",
   "metadata": {},
   "outputs": [
    {
     "name": "stdout",
     "output_type": "stream",
     "text": [
      "Index(['battery_power', 'blue', 'clock_speed', 'dual_sim', 'fc', 'four_g',\n",
      "       'int_memory', 'm_dep', 'mobile_wt', 'n_cores', 'pc', 'px_height',\n",
      "       'px_width', 'ram', 'sc_h', 'sc_w', 'talk_time', 'three_g',\n",
      "       'touch_screen', 'wifi', 'price_range'],\n",
      "      dtype='object')\n",
      "\n",
      "Accuracy: 0.8925\n",
      "\n",
      "Classification Report:\n",
      "               precision    recall  f1-score   support\n",
      "\n",
      "           0       0.95      0.96      0.96       105\n",
      "           1       0.89      0.87      0.88        91\n",
      "           2       0.78      0.87      0.82        92\n",
      "           3       0.94      0.87      0.90       112\n",
      "\n",
      "    accuracy                           0.89       400\n",
      "   macro avg       0.89      0.89      0.89       400\n",
      "weighted avg       0.90      0.89      0.89       400\n",
      "\n"
     ]
    }
   ],
   "source": [
    "import pandas as pd\n",
    "from sklearn.model_selection import train_test_split\n",
    "from sklearn.ensemble import RandomForestClassifier\n",
    "from sklearn.metrics import accuracy_score, classification_report\n",
    "\n",
    "train_data = pd.read_csv('train.csv')\n",
    "test_data = pd.read_csv('test.csv')\n",
    "\n",
    "print(train_data.columns)\n",
    "target_column = 'Price Range'\n",
    "if target_column not in train_data.columns:\n",
    "    target_column = 'price_range'\n",
    "    \n",
    "X = train_data.drop(target_column, axis=1)\n",
    "y = train_data[target_column]\n",
    "X_train, X_val, y_train, y_val = train_test_split(X, y, test_size=0.2, random_state=42)\n",
    "rf_classifier = RandomForestClassifier(random_state=42)\n",
    "rf_classifier.fit(X_train, y_train)\n",
    "y_pred = rf_classifier.predict(X_val)\n",
    "\n",
    "accuracy = accuracy_score(y_val, y_pred)\n",
    "print()\n",
    "print(\"Accuracy:\", accuracy)\n",
    "print(\"\\nClassification Report:\\n\", classification_report(y_val, y_pred))\n",
    "\n",
    "test_data = test_data.drop('id', axis=1)\n",
    "test_predictions = rf_classifier.predict(test_data)\n",
    "\n",
    "test_data[target_column] = test_predictions\n",
    "test_data.to_csv('mobile_price_predictions.csv', columns=[target_column], index=False)\n"
   ]
  },
  {
   "cell_type": "code",
   "execution_count": null,
   "id": "3f5ba7b6",
   "metadata": {},
   "outputs": [],
   "source": []
  }
 ],
 "metadata": {
  "kernelspec": {
   "display_name": "Python 3 (ipykernel)",
   "language": "python",
   "name": "python3"
  },
  "language_info": {
   "codemirror_mode": {
    "name": "ipython",
    "version": 3
   },
   "file_extension": ".py",
   "mimetype": "text/x-python",
   "name": "python",
   "nbconvert_exporter": "python",
   "pygments_lexer": "ipython3",
   "version": "3.9.12"
  }
 },
 "nbformat": 4,
 "nbformat_minor": 5
}
